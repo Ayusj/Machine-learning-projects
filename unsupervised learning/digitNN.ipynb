{
 "cells": [
  {
   "cell_type": "code",
   "execution_count": 1,
   "id": "489e49a9-0947-481c-bf1f-42a8bfb623b7",
   "metadata": {},
   "outputs": [],
   "source": [
    "import numpy as np\n",
    "import pandas as pd\n",
    "from sklearn.decomposition import PCA\n",
    "from sklearn.preprocessing import StandardScaler\n",
    "from sklearn.datasets import fetch_openml\n",
    "import matplotlib.pyplot as plt\n",
    "from sklearn.model_selection import train_test_split\n",
    "import tensorflow as tf\n",
    "from tensorflow import keras\n",
    "import copy, math"
   ]
  },
  {
   "cell_type": "code",
   "execution_count": 2,
   "id": "b713221a-2862-4d33-8953-e2b114f9745f",
   "metadata": {},
   "outputs": [],
   "source": [
    "mnist = fetch_openml('mnist_784', version=1)\n",
    "data = mnist.data\n",
    "labels = labels = mnist.target.astype(int)  # Convert labels to integers\n",
    "scaler = StandardScaler()\n",
    "datas = np.array(data)\n",
    "x = scaler.fit_transform(datas)\n",
    "y = np.array(labels)"
   ]
  },
  {
   "cell_type": "code",
   "execution_count": 5,
   "id": "d4f817fd-75a6-4452-8c9d-bec2719b6d83",
   "metadata": {},
   "outputs": [],
   "source": [
    "def preactivation(x,w,b):\n",
    "    z = np.dot(x,w) + b\n",
    "    return z\n",
    "\n",
    "def relu(z):\n",
    "    return np.maximum(0, z)\n",
    "\n",
    "def forward_propagation(x, w1, b1):\n",
    "    z1 = preactivation(x, w1, b1)   # Compute Z_1 (pre-activation)\n",
    "    a1 = relu(z1)                    # Apply ReLU to Z_1\n",
    "    return a1,z1\n",
    "\n",
    "# def softmax(z):\n",
    "#     expZ = np.exp(z)\n",
    "#     sum_expz = np.sum(expZ,axis=1,keepdims=True)\n",
    "#     return expZ/sum_expz\n",
    "\n",
    "def softmax(z):\n",
    "    z = z - np.max(z, axis=1, keepdims=True)  # Subtract max to avoid overflow\n",
    "    expZ = np.exp(z)\n",
    "    sum_expz = np.sum(expZ, axis=1, keepdims=True)\n",
    "    return expZ / sum_expz\n",
    "\n",
    "    \n",
    "def softmaxpropogation(a,w,b):\n",
    "    z2 = preactivation(a,w,b)\n",
    "    a2 = softmax(z2)\n",
    "    return a2,z2\n",
    "    "
   ]
  },
  {
   "cell_type": "code",
   "execution_count": 6,
   "id": "d6843a7a-c26a-40c8-bff4-4d1896e2f49c",
   "metadata": {},
   "outputs": [],
   "source": [
    "# def cross_entropy_loss(y, a2):\n",
    "#     # y is the true labels (one-hot encoded), a2 is the predicted probabilities\n",
    "#     m = y.shape[0]  # Number of samples\n",
    "#     log_a2 = np.log(a2-1e-10)  # Log of predicted probabilities\n",
    "\n",
    "#     # Compute the cross-entropy loss (mean over all samples)\n",
    "#     loss = -np.sum(y * log_a2) / m\n",
    "#     return loss\n",
    "\n",
    "def cross_entropy_loss(y, a2):\n",
    "    # Clip a2 to avoid log(0)\n",
    "    epsilon = 1e-10\n",
    "    a2 = np.clip(a2, epsilon, 1. - epsilon)\n",
    "    log_a2 = np.log(a2)  # Log of predicted probabilities\n",
    "    m = y.shape[0]  # Number of samples\n",
    "    loss = -np.sum(y * log_a2) / m\n",
    "    return loss\n"
   ]
  },
  {
   "cell_type": "code",
   "execution_count": 7,
   "id": "169d20c2-b348-4679-93b0-9482f978fa06",
   "metadata": {},
   "outputs": [],
   "source": [
    "def full_forward_propagation(x, w1, b1, w2, b2):\n",
    "    a1,z1 = forward_propagation(x, w1, b1)  # Hidden layer forward propagation\n",
    "    a2,z2 = softmaxpropogation(a1, w2, b2)  # Output layer forward propagation\n",
    "    return a1,a2,z1,z2\n"
   ]
  },
  {
   "cell_type": "code",
   "execution_count": 8,
   "id": "11b4d839-61c9-4853-a00d-134744c0ffd9",
   "metadata": {},
   "outputs": [],
   "source": [
    "def gradientfn(x,y,a1,a2,z1,z2,w1,w2,alpha):\n",
    "    dA2 = a2 - y\n",
    "    dW2 = np.dot(a1.T,dA2)\n",
    "    dB2 = np.sum(dA2, axis=0, keepdims=True)\n",
    "    dA1 = np.dot(dA2,w2.T)\n",
    "    dZ1 = dA1 * (z1 > 0)  # Element-wise multiplication with the ReLU derivative\n",
    "    dW1 = np.dot(x.T, dZ1)  # Gradient of the loss wrt W1\n",
    "    dB1 = np.sum(dZ1, axis=0, keepdims=True)  # Gradient of the loss wrt B1\n",
    "    return dW1,dW2,dB1,dB2\n"
   ]
  },
  {
   "cell_type": "code",
   "execution_count": 9,
   "id": "ccbf0aad-6ae9-4638-9d67-e5dea5e1eab0",
   "metadata": {},
   "outputs": [],
   "source": [
    "def gradientDescent(x,y,w1,w2,b1,b2,alpha):\n",
    "    a1,a2,z1,z2 = full_forward_propagation(x,w1,b1,w2,b2)\n",
    "    dW1,dW2,dB1,dB2 = gradientfn(x,y,a1,a2,z1,z2,w1,w2,alpha)\n",
    "    w1 -= alpha * dW1\n",
    "    b1 -= alpha * dB1\n",
    "    w2 -= alpha * dW2\n",
    "    b2 -= alpha * dB2\n",
    "    return w1,b1,w2,b2"
   ]
  },
  {
   "cell_type": "code",
   "execution_count": 174,
   "id": "6d32d0ce-a0d3-4f62-ab64-1e79b4296ab1",
   "metadata": {},
   "outputs": [],
   "source": [
    "def iterations(x,y,w1,w2,b1,b2,alpha,num_epochs):\n",
    "    for epoch in range(num_epochs):\n",
    "        # Perform forward propagation and compute gradients\n",
    "        w1,b1,w2,b2 = gradientDescent(x, y, w1, w2, b1, b2, alpha)\n",
    "        \n",
    "        # Calculate loss for this epoch\n",
    "        a1, a2, z1, z2 = full_forward_propagation(x, w1, b1, w2, b2)\n",
    "        loss = cross_entropy_loss(y, a2)\n",
    "        \n",
    "        # Append the loss value for this epoch to track the training progress\n",
    "        loss_history.append(loss)\n",
    "        # if epoch % 10 == 0 and epoch > 0:\n",
    "        #     alpha *= 0.999\n",
    "        \n",
    "        # Optionally print the loss every 100 epochs or so\n",
    "        if epoch % 10 == 0:\n",
    "            print(f\"Epoch {epoch}/{num_epochs}, Loss: {loss}\")\n",
    "    return w1,w2,b1,b2\n"
   ]
  },
  {
   "cell_type": "code",
   "execution_count": 11,
   "id": "433b509d-312a-480c-8a11-0aae3c3f9e25",
   "metadata": {},
   "outputs": [
    {
     "name": "stdout",
     "output_type": "stream",
     "text": [
      "[[-0.0050098  -0.00514778  0.00019425 ...  0.03293129 -0.0134562\n",
      "   0.01356228]\n",
      " [ 0.00068705  0.00357628  0.00600486 ...  0.00488953  0.01195254\n",
      "   0.00066478]\n",
      " [ 0.00204464 -0.00949793  0.00481813 ... -0.00309441 -0.0121009\n",
      "   0.00714132]\n",
      " ...\n",
      " [-0.00625202  0.00676532 -0.00418931 ...  0.00810874 -0.00366389\n",
      "   0.00446558]\n",
      " [ 0.00869442  0.0212202  -0.00272726 ...  0.00486357 -0.00713128\n",
      "  -0.00258702]\n",
      " [ 0.00250173  0.00315626 -0.00147947 ...  0.0055131  -0.0016986\n",
      "   0.00435688]]\n"
     ]
    }
   ],
   "source": [
    "wi1 = tf.random.normal((784, 128), dtype=tf.float64) * 0.01  # Weight matrix for input to hidden\n",
    "# wi1 = tf.zeros((784, 128), dtype=tf.float64) * 0.01  # Weight matrix for input to hidden\n",
    "bi1 = tf.zeros((1, 128), dtype=tf.float64)                  # Bias vector for hidden layer\n",
    "\n",
    "# Output layer\n",
    "wi2 = tf.random.normal((128, 10), dtype=tf.float64) * 0.01  # Weight matrix for hidden to output\n",
    "# wi2 = tf.zeros((128, 10), dtype=tf.float64) * 0.01  # Weight matrix for hidden to output\n",
    "bi2 = tf.zeros((1, 10), dtype=tf.float64)                  # Bias vector for output layer\n",
    "\n",
    "# Convert to NumPy if using custom implementation\n",
    "win1 = wi1.numpy()\n",
    "bin1 = bi1.numpy()\n",
    "win2 = wi2.numpy()\n",
    "bin2 = bi2.numpy()\n",
    "print(win1)"
   ]
  },
  {
   "cell_type": "code",
   "execution_count": 176,
   "id": "295a347f-4798-460c-b7f8-08f45c166517",
   "metadata": {},
   "outputs": [
    {
     "name": "stdout",
     "output_type": "stream",
     "text": [
      "(69000, 784)\n"
     ]
    }
   ],
   "source": [
    "x_small, _, y_small, _ = train_test_split(x, y, train_size=69000, random_state=42)\n",
    "print(x_small.shape)\n",
    "# x_small = np.delete(x_small, 21018, axis=0)\n",
    "# y_small = np.delete(y_small, 21018, axis=0)\n",
    "x_train, x_test, y_train, y_test = train_test_split(x_small, y_small, test_size=0.3, random_state=42)\n",
    "# x_train, x_test, y_train, y_test = train_test_split(x, y, test_size=0.3, random_state=42)"
   ]
  },
  {
   "cell_type": "code",
   "execution_count": 177,
   "id": "b4fda2f3-d019-43a1-8a35-db56d1431186",
   "metadata": {},
   "outputs": [],
   "source": [
    "def one_hot_encode(y, num_classes):\n",
    "    m = y.shape[0]  # Number of samples\n",
    "    one_hot_y = np.zeros((m, num_classes))\n",
    "    one_hot_y[np.arange(m), y] = 1  # Set the correct class label to 1\n",
    "    return one_hot_y\n",
    "y_train_one_hot = one_hot_encode(y_train,10)\n",
    "# print(y_small[21018])\n",
    "# Remove the problematic row from x_train and y_train (or x_test, y_test)\n"
   ]
  },
  {
   "cell_type": "code",
   "execution_count": 193,
   "id": "c986f632-77a8-4f29-8e4f-f76fbed0123e",
   "metadata": {},
   "outputs": [
    {
     "name": "stdout",
     "output_type": "stream",
     "text": [
      "Epoch 0/100, Loss: 2.213236294689128\n",
      "Epoch 10/100, Loss: 0.4759556870588292\n",
      "Epoch 20/100, Loss: 0.24562352160501155\n",
      "Epoch 30/100, Loss: 0.2006705129382914\n",
      "Epoch 40/100, Loss: 0.17276922341384782\n",
      "Epoch 50/100, Loss: 0.15204972477849946\n",
      "Epoch 60/100, Loss: 0.13573812952232336\n",
      "Epoch 70/100, Loss: 0.12252016414943595\n",
      "Epoch 80/100, Loss: 0.11174163904439356\n",
      "Epoch 90/100, Loss: 0.10265706606186689\n"
     ]
    }
   ],
   "source": [
    "w1 = copy.deepcopy(win1)\n",
    "b1 = copy.deepcopy(bin1)\n",
    "w2 = copy.deepcopy(win2)\n",
    "b2 = copy.deepcopy(bin2)\n",
    "# Initialize loss history to track progress\n",
    "loss_history = []\n",
    "# Set number of epochs\n",
    "num_epochs = 100  # or any number that works for your dataset\n",
    "alpha = 0.000029\n",
    "w1,w2,b1,b2 = iterations(x_train,y_train_one_hot,w1,w2,b1,b2,alpha,num_epochs)"
   ]
  },
  {
   "cell_type": "code",
   "execution_count": 194,
   "id": "7d96d13d-31cd-49c5-bc0d-49a1304673bd",
   "metadata": {},
   "outputs": [
    {
     "data": {
      "image/png": "[encoded data removed]",
      "text/plain": [
       "<Figure size 640x480 with 1 Axes>"
      ]
     },
     "metadata": {},
     "output_type": "display_data"
    }
   ],
   "source": [
    "plt.plot(loss_history)\n",
    "plt.title(\"Loss vs Epochs\")\n",
    "plt.xlabel(\"Epochs\")\n",
    "plt.ylabel(\"Loss\")\n",
    "plt.show()"
   ]
  },
  {
   "cell_type": "code",
   "execution_count": 195,
   "id": "8f866178-4df3-427a-ac71-9a40a7e91fb5",
   "metadata": {},
   "outputs": [],
   "source": [
    "def predict(x, w1, b1, w2, b2):\n",
    "    a1, a2, _, _ = full_forward_propagation(x, w1, b1, w2, b2)\n",
    "    return np.argmax(a2, axis=1)  # The class with the highest probability\n"
   ]
  },
  {
   "cell_type": "code",
   "execution_count": 196,
   "id": "26c2cb4e-222b-4f4a-baca-c0a3f11a9fe6",
   "metadata": {},
   "outputs": [
    {
     "name": "stdout",
     "output_type": "stream",
     "text": [
      "0.9736231884057971 0.9609661835748792\n"
     ]
    }
   ],
   "source": [
    "pred_train = predict(x_train,w1,b1,w2,b2)\n",
    "pred_test = predict(x_test,w1,b1,w2,b2)\n",
    "acc_train = np.mean(pred_train == y_train)\n",
    "acc_test = np.mean(pred_test == y_test)\n",
    "print(acc_train,acc_test)"
   ]
  },
  {
   "cell_type": "code",
   "execution_count": null,
   "id": "70f06bc6-6a49-4d0d-b8e6-0f96214a36bb",
   "metadata": {},
   "outputs": [],
   "source": []
  },
  {
   "cell_type": "code",
   "execution_count": null,
   "id": "3bfbaa48-5294-4fc6-a750-dcb69f711edd",
   "metadata": {},
   "outputs": [],
   "source": []
  },
  {
   "cell_type": "code",
   "execution_count": 208,
   "id": "ee0d3cee-6758-4651-b3fa-59e936a20408",
   "metadata": {},
   "outputs": [],
   "source": [
    "# alpha = 0.000029\n",
    "# 0.9736231884057971 0.9609661835748792"
   ]
  },
  {
   "cell_type": "code",
   "execution_count": 132,
   "id": "13a59302-a00a-4bb4-a41a-aa9c26368a05",
   "metadata": {},
   "outputs": [
    {
     "data": {
      "text/plain": [
       "1"
      ]
     },
     "execution_count": 132,
     "metadata": {},
     "output_type": "execute_result"
    }
   ],
   "source": [
    "y[21019]"
   ]
  },
  {
   "cell_type": "code",
   "execution_count": 204,
   "id": "1dcb8b8f-359f-411c-ba93-7d50f2e7426c",
   "metadata": {},
   "outputs": [],
   "source": [
    "import tensorflow as tf\n",
    "from tensorflow.keras import Sequential\n",
    "from tensorflow.keras.layers import Dense, Flatten, Input\n",
    "from tensorflow.keras.datasets import mnist"
   ]
  },
  {
   "cell_type": "code",
   "execution_count": 205,
   "id": "98fbaab5-0684-4db5-a1f2-295ba978b107",
   "metadata": {},
   "outputs": [],
   "source": [
    "# Define a simple feedforward neural network\n",
    "model = Sequential([\n",
    "    Input(shape=(784,)),\n",
    "    Dense(128, activation='relu', input_shape=(784,)),  # Hidden layer with 128 neurons\n",
    "    Dense(10, activation='softmax')                    # Output layer with 10 classes\n",
    "])\n",
    "\n",
    "# Compile the model\n",
    "model.compile(optimizer='adam',\n",
    "              loss='sparse_categorical_crossentropy',\n",
    "              metrics=['accuracy'])\n"
   ]
  },
  {
   "cell_type": "code",
   "execution_count": 206,
   "id": "c5bcdaec-5f52-4f0a-bb1a-e7f7f1544990",
   "metadata": {
    "scrolled": true
   },
   "outputs": [
    {
     "name": "stdout",
     "output_type": "stream",
     "text": [
      "Epoch 1/10\n",
      "\u001b[1m1510/1510\u001b[0m \u001b[32m━━━━━━━━━━━━━━━━━━━━\u001b[0m\u001b[37m\u001b[0m \u001b[1m6s\u001b[0m 4ms/step - accuracy: 0.8776 - loss: 0.4322 - val_accuracy: 0.9556 - val_loss: 0.1689\n",
      "Epoch 2/10\n",
      "\u001b[1m1510/1510\u001b[0m \u001b[32m━━━━━━━━━━━━━━━━━━━━\u001b[0m\u001b[37m\u001b[0m \u001b[1m6s\u001b[0m 4ms/step - accuracy: 0.9673 - loss: 0.1148 - val_accuracy: 0.9640 - val_loss: 0.1368\n",
      "Epoch 3/10\n",
      "\u001b[1m1510/1510\u001b[0m \u001b[32m━━━━━━━━━━━━━━━━━━━━\u001b[0m\u001b[37m\u001b[0m \u001b[1m10s\u001b[0m 4ms/step - accuracy: 0.9799 - loss: 0.0683 - val_accuracy: 0.9648 - val_loss: 0.1455\n",
      "Epoch 4/10\n",
      "\u001b[1m1510/1510\u001b[0m \u001b[32m━━━━━━━━━━━━━━━━━━━━\u001b[0m\u001b[37m\u001b[0m \u001b[1m6s\u001b[0m 4ms/step - accuracy: 0.9836 - loss: 0.0576 - val_accuracy: 0.9639 - val_loss: 0.1525\n",
      "Epoch 5/10\n",
      "\u001b[1m1510/1510\u001b[0m \u001b[32m━━━━━━━━━━━━━━━━━━━━\u001b[0m\u001b[37m\u001b[0m \u001b[1m7s\u001b[0m 4ms/step - accuracy: 0.9881 - loss: 0.0378 - val_accuracy: 0.9681 - val_loss: 0.1601\n",
      "Epoch 6/10\n",
      "\u001b[1m1510/1510\u001b[0m \u001b[32m━━━━━━━━━━━━━━━━━━━━\u001b[0m\u001b[37m\u001b[0m \u001b[1m10s\u001b[0m 4ms/step - accuracy: 0.9914 - loss: 0.0298 - val_accuracy: 0.9707 - val_loss: 0.1500\n",
      "Epoch 7/10\n",
      "\u001b[1m1510/1510\u001b[0m \u001b[32m━━━━━━━━━━━━━━━━━━━━\u001b[0m\u001b[37m\u001b[0m \u001b[1m6s\u001b[0m 4ms/step - accuracy: 0.9930 - loss: 0.0224 - val_accuracy: 0.9697 - val_loss: 0.1676\n",
      "Epoch 8/10\n",
      "\u001b[1m1510/1510\u001b[0m \u001b[32m━━━━━━━━━━━━━━━━━━━━\u001b[0m\u001b[37m\u001b[0m \u001b[1m5s\u001b[0m 3ms/step - accuracy: 0.9939 - loss: 0.0201 - val_accuracy: 0.9705 - val_loss: 0.1803\n",
      "Epoch 9/10\n",
      "\u001b[1m1510/1510\u001b[0m \u001b[32m━━━━━━━━━━━━━━━━━━━━\u001b[0m\u001b[37m\u001b[0m \u001b[1m6s\u001b[0m 4ms/step - accuracy: 0.9949 - loss: 0.0172 - val_accuracy: 0.9684 - val_loss: 0.1987\n",
      "Epoch 10/10\n",
      "\u001b[1m1510/1510\u001b[0m \u001b[32m━━━━━━━━━━━━━━━━━━━━\u001b[0m\u001b[37m\u001b[0m \u001b[1m10s\u001b[0m 4ms/step - accuracy: 0.9946 - loss: 0.0226 - val_accuracy: 0.9681 - val_loss: 0.2054\n"
     ]
    }
   ],
   "source": [
    "history = model.fit(x_train, y_train, epochs=10, batch_size=32, validation_data=(x_test, y_test))"
   ]
  },
  {
   "cell_type": "code",
   "execution_count": 207,
   "id": "fc421138-be26-4149-8e08-d259cf96aeb8",
   "metadata": {},
   "outputs": [
    {
     "name": "stdout",
     "output_type": "stream",
     "text": [
      "\u001b[1m647/647\u001b[0m \u001b[32m━━━━━━━━━━━━━━━━━━━━\u001b[0m\u001b[37m\u001b[0m \u001b[1m1s\u001b[0m 2ms/step - accuracy: 0.9667 - loss: 0.2004\n",
      "\u001b[1m1510/1510\u001b[0m \u001b[32m━━━━━━━━━━━━━━━━━━━━\u001b[0m\u001b[37m\u001b[0m \u001b[1m3s\u001b[0m 2ms/step - accuracy: 0.9940 - loss: 0.0215\n",
      "Test Accuracy: 0.9681\n"
     ]
    },
    {
     "data": {
      "image/png": "[encoded data removed]",
      "text/plain": [
       "<Figure size 640x480 with 1 Axes>"
      ]
     },
     "metadata": {},
     "output_type": "display_data"
    }
   ],
   "source": [
    "test_loss, test_accuracy = model.evaluate(x_test, y_test)\n",
    "train_loss, train_accuracy = model.evaluate(x_train, y_train)\n",
    "print(f\"Test Accuracy: {test_accuracy:.4f}\")\n",
    "plt.plot(history.history['loss'], label='Train Loss')\n",
    "plt.plot(history.history['val_loss'], label='Validation Loss')\n",
    "plt.legend()\n",
    "plt.title(\"Loss vs Epochs\")\n",
    "plt.xlabel(\"Epochs\")\n",
    "plt.ylabel(\"Loss\")\n",
    "plt.show()"
   ]
  },
  {
   "cell_type": "code",
   "execution_count": null,
   "id": "69e6278d-2b20-4775-8ce7-8b15d92b92ac",
   "metadata": {},
   "outputs": [],
   "source": []
  }
 ],
 "metadata": {
  "kernelspec": {
   "display_name": "Python 3 (ipykernel)",
   "language": "python",
   "name": "python3"
  },
  "language_info": {
   "codemirror_mode": {
    "name": "ipython",
    "version": 3
   },
   "file_extension": ".py",
   "mimetype": "text/x-python",
   "name": "python",
   "nbconvert_exporter": "python",
   "pygments_lexer": "ipython3",
   "version": "3.12.6"
  }
 },
 "nbformat": 4,
 "nbformat_minor": 5
}
