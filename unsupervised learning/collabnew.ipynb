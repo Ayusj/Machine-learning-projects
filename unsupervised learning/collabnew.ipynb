{
 "cells": [
  {
   "cell_type": "code",
   "execution_count": 1,
   "id": "65ad3f77-64c3-4b66-84aa-3daad34a2292",
   "metadata": {},
   "outputs": [],
   "source": [
    "import numpy as np\n",
    "import pandas as pd\n",
    "from sklearn.preprocessing import StandardScaler\n",
    "from sklearn.model_selection import train_test_split\n",
    "from sklearn.metrics import mean_squared_error, r2_score\n",
    "import copy, math\n",
    "# scaler = StandardScaler()\n",
    "import tensorflow as tf\n",
    "from tensorflow import keras\n",
    "# from recsys_utils import *"
   ]
  },
  {
   "cell_type": "code",
   "execution_count": 2,
   "id": "9ee4fa1c-2dfe-423e-9549-0664c29a2101",
   "metadata": {},
   "outputs": [
    {
     "data": {
      "text/html": [
       "<div>\n",
       "<style scoped>\n",
       "    .dataframe tbody tr th:only-of-type {\n",
       "        vertical-align: middle;\n",
       "    }\n",
       "\n",
       "    .dataframe tbody tr th {\n",
       "        vertical-align: top;\n",
       "    }\n",
       "\n",
       "    .dataframe thead th {\n",
       "        text-align: right;\n",
       "    }\n",
       "</style>\n",
       "<table border=\"1\" class=\"dataframe\">\n",
       "  <thead>\n",
       "    <tr style=\"text-align: right;\">\n",
       "      <th></th>\n",
       "      <th>User ID</th>\n",
       "      <th>Movie ID</th>\n",
       "      <th>Rating</th>\n",
       "    </tr>\n",
       "  </thead>\n",
       "  <tbody>\n",
       "    <tr>\n",
       "      <th>0</th>\n",
       "      <td>196</td>\n",
       "      <td>242</td>\n",
       "      <td>3</td>\n",
       "    </tr>\n",
       "    <tr>\n",
       "      <th>1</th>\n",
       "      <td>186</td>\n",
       "      <td>302</td>\n",
       "      <td>3</td>\n",
       "    </tr>\n",
       "    <tr>\n",
       "      <th>2</th>\n",
       "      <td>22</td>\n",
       "      <td>377</td>\n",
       "      <td>1</td>\n",
       "    </tr>\n",
       "    <tr>\n",
       "      <th>3</th>\n",
       "      <td>244</td>\n",
       "      <td>51</td>\n",
       "      <td>2</td>\n",
       "    </tr>\n",
       "    <tr>\n",
       "      <th>4</th>\n",
       "      <td>166</td>\n",
       "      <td>346</td>\n",
       "      <td>1</td>\n",
       "    </tr>\n",
       "    <tr>\n",
       "      <th>...</th>\n",
       "      <td>...</td>\n",
       "      <td>...</td>\n",
       "      <td>...</td>\n",
       "    </tr>\n",
       "    <tr>\n",
       "      <th>99995</th>\n",
       "      <td>880</td>\n",
       "      <td>476</td>\n",
       "      <td>3</td>\n",
       "    </tr>\n",
       "    <tr>\n",
       "      <th>99996</th>\n",
       "      <td>716</td>\n",
       "      <td>204</td>\n",
       "      <td>5</td>\n",
       "    </tr>\n",
       "    <tr>\n",
       "      <th>99997</th>\n",
       "      <td>276</td>\n",
       "      <td>1090</td>\n",
       "      <td>1</td>\n",
       "    </tr>\n",
       "    <tr>\n",
       "      <th>99998</th>\n",
       "      <td>13</td>\n",
       "      <td>225</td>\n",
       "      <td>2</td>\n",
       "    </tr>\n",
       "    <tr>\n",
       "      <th>99999</th>\n",
       "      <td>12</td>\n",
       "      <td>203</td>\n",
       "      <td>3</td>\n",
       "    </tr>\n",
       "  </tbody>\n",
       "</table>\n",
       "<p>100000 rows × 3 columns</p>\n",
       "</div>"
      ],
      "text/plain": [
       "       User ID  Movie ID  Rating\n",
       "0          196       242       3\n",
       "1          186       302       3\n",
       "2           22       377       1\n",
       "3          244        51       2\n",
       "4          166       346       1\n",
       "...        ...       ...     ...\n",
       "99995      880       476       3\n",
       "99996      716       204       5\n",
       "99997      276      1090       1\n",
       "99998       13       225       2\n",
       "99999       12       203       3\n",
       "\n",
       "[100000 rows x 3 columns]"
      ]
     },
     "execution_count": 2,
     "metadata": {},
     "output_type": "execute_result"
    }
   ],
   "source": [
    "column_names = ['User ID', 'Movie ID', 'Rating', 'Timestamp']\n",
    "df = pd.read_csv('../../notes and data/ml-100k/u.data',sep='\\t', names=column_names)\n",
    "df = df.drop(columns=['Timestamp'])\n",
    "df"
   ]
  },
  {
   "cell_type": "code",
   "execution_count": 3,
   "id": "d7e6f89c-9498-4679-a2d6-26e1483c933e",
   "metadata": {},
   "outputs": [
    {
     "data": {
      "text/plain": [
       "array([[5., 4., 0., ..., 5., 0., 0.],\n",
       "       [3., 0., 0., ..., 0., 0., 5.],\n",
       "       [4., 0., 0., ..., 0., 0., 0.],\n",
       "       ...,\n",
       "       [0., 0., 0., ..., 0., 0., 0.],\n",
       "       [0., 0., 0., ..., 0., 0., 0.],\n",
       "       [0., 0., 0., ..., 0., 0., 0.]])"
      ]
     },
     "execution_count": 3,
     "metadata": {},
     "output_type": "execute_result"
    }
   ],
   "source": [
    "y = df.pivot(index='Movie ID', columns='User ID', values='Rating')\n",
    "y = y.fillna(0)\n",
    "y = np.array(y)\n",
    "y"
   ]
  },
  {
   "cell_type": "code",
   "execution_count": 4,
   "id": "533f0294-815e-4a90-86cc-a1ca076bc6de",
   "metadata": {},
   "outputs": [
    {
     "name": "stdout",
     "output_type": "stream",
     "text": [
      "(1682, 943) (1682, 943)\n"
     ]
    }
   ],
   "source": [
    "M = (y != 0).astype(int)\n",
    "print(y.shape,M.shape)"
   ]
  },
  {
   "cell_type": "code",
   "execution_count": 5,
   "id": "8e70279d-2451-4e5c-a563-106fe885b742",
   "metadata": {},
   "outputs": [],
   "source": [
    "# def costFn(x,y,w,b,lam):\n",
    "#     cost = 0\n",
    "#     pred = 0\n",
    "#     reg = 0\n",
    "#     for i in range(y.shape[0]):\n",
    "#         for j in range(y.shape[1]):\n",
    "#             if m[i][j] == 1:\n",
    "#                 val = np.dot(w[j],x[i]) + b[j] - y[i][j]\n",
    "#                 pred += (val**2)/2\n",
    "                \n",
    "#     for i in range(y.shape[0]):  # Regularization for X\n",
    "#         reg += np.sum(x[i] ** 2)\n",
    "\n",
    "#     for j in range(y.shape[1]):  # Regularization for W and b\n",
    "#         reg += np.sum(w[j] ** 2) + b[j] ** 2\n",
    "\n",
    "#     reg = (lam/2)*reg\n",
    "\n",
    "#     cost = pred + reg  # Divide by 2m for proper scaling\n",
    "#     return cost\n",
    "\n",
    "\n",
    "def costFn(X, Y,W, b,m, lam):\n",
    "    \n",
    "    # nm, nu = Y.shape\n",
    "    # J = 0\n",
    "    # ### START CODE HERE ###  \n",
    "    # for j in range(nu):\n",
    "    #     w = W[j,:]\n",
    "    #     b_j = b[0,j]\n",
    "    #     for i in range(nm):\n",
    "    #         x = X[i,:]\n",
    "    #         y = Y[i,j]\n",
    "    #         r = m[i,j]\n",
    "    #         J += r * np.square((np.dot(w,x) + b_j - y ))\n",
    "    # J += (lam) * (np.sum(np.square(W)) + np.sum(np.square(X)))\n",
    "    # J = J/2\n",
    "    # ### END CODE HERE ### \n",
    "\n",
    "    # return J\n",
    "    j = (tf.linalg.matmul(X, tf.transpose(W)) + b - Y)*m\n",
    "    J = 0.5 * tf.reduce_sum(j**2) + (lam/2) * (tf.reduce_sum(X**2) + tf.reduce_sum(W**2))\n",
    "    return J\n"
   ]
  },
  {
   "cell_type": "code",
   "execution_count": 6,
   "id": "158a2886-a04d-4ce1-a858-c6e5e6c929ea",
   "metadata": {},
   "outputs": [],
   "source": [
    "def gradientfn(x,y,w,b,m,lam):\n",
    "    djx = np.zeros_like(x)\n",
    "    djw = np.zeros_like(w)\n",
    "    djb = np.zeros_like(b)\n",
    "    for i in range(y.shape[0]):\n",
    "        for k in range(len(x[i])):\n",
    "            for j in range(y.shape[1]):\n",
    "                if m[i][j] == 1:\n",
    "                    val = np.dot(w[j],x[i]) + b[0,j] - y[i][j]\n",
    "                    djx[i][k] += val*w[j][k]\n",
    "            djx[i][k] += lam*x[i][k]\n",
    "            \n",
    "    for j in range(y.shape[1]):\n",
    "        for k in range(len(w[j])):\n",
    "            for i in range(y.shape[0]):\n",
    "                if m[i][j] == 1:\n",
    "                    val = np.dot(w[j],x[i]) + b[0,j] - y[i][j]\n",
    "                    djw[j][k] += val*x[i][k]\n",
    "            djw[j][k] += lam*w[j][k]\n",
    "            \n",
    "    for j in range(y.shape[1]):\n",
    "        for i in range(y.shape[0]):\n",
    "            if m[i][j] == 1:\n",
    "                val = np.dot(w[j],x[i]) + b[0,j] - y[i][j]\n",
    "                djb[0,j] += val    \n",
    "    \n",
    "    return djw, djb ,djx "
   ]
  },
  {
   "cell_type": "code",
   "execution_count": 7,
   "id": "204adf31-2797-4000-8d80-15b426f11293",
   "metadata": {},
   "outputs": [],
   "source": [
    "def gradientDecent(x,y,w_in,b_in,alpha,iters,lam,m):\n",
    "    # x = copy.deepcopy(x)\n",
    "    # w = copy.deepcopy(w_in) #avoid modifying global w within function\n",
    "    # b = copy.deepcopy(b_in)\n",
    "    # for i in range(iters):\n",
    "    #     djw,djb,djx = gradientfn(x,y,w,b,m,lam)\n",
    "    #     w = w - alpha*djw\n",
    "    #     b = b - alpha*djb\n",
    "    #     x = x - alpha*djx\n",
    "    #     # if i % 100 == 0 and i > 0:\n",
    "    #     #     alpha *= 0.9\n",
    "    #     if i % math.ceil(iters / 10) == 0:\n",
    "    #         cost = costFn(x,y,w,b,m,lam)\n",
    "    #         print(f\"Iteration {i:4d}: Cost {cost:.4f}\")\n",
    "    for iter in range(iters):\n",
    "        with tf.GradientTape() as tape:\n",
    "            # Compute the cost (forward pass included in costFn)\n",
    "            cost_value = costFn(x, y, w_in, b_in, m, lam)\n",
    "        \n",
    "        # Compute gradients\n",
    "        grads = tape.gradient(cost_value, [x, w_in, b_in])\n",
    "        \n",
    "        # Apply gradients to variables\n",
    "        optimizer.apply_gradients(zip(grads, [x, w_in, b_in]))\n",
    "\n",
    "        # Log periodically\n",
    "        if iter % 20 == 0:\n",
    "            print(f\"Training loss at iteration {iter}: {cost_value.numpy():0.1f}\")\n",
    "    \n",
    "    return w, b, x"
   ]
  },
  {
   "cell_type": "code",
   "execution_count": 8,
   "id": "d20fe4a0-4e4c-4e64-a605-15f831e3873c",
   "metadata": {},
   "outputs": [],
   "source": [
    "num_features = 100\n",
    "num_movies, num_users = y.shape  # Total number of users (943)\n",
    "subset_users = 50  # Number of users you want to use for faster processing\n",
    "optimizer = keras.optimizers.Adam(learning_rate=0.5)\n",
    "\n",
    "alpha = 0.01  # Reduce the learning rate to avoid divergence\n",
    "iterations = 200\n",
    "lam = 1\n",
    "\n",
    "# Initialize features and weights with small random values instead of zeros\n",
    "# initial_x = np.random.randn(y_train.shape[0], 10) * 0.1  # Small random values\n",
    "# initial_w = np.random.randn(y_train.shape[1], 10) * 0 # Small random values\n",
    "# initial_b = np.random.randn(y_train.shape[1]) * 0  # Small random values\n",
    "# print(initial_x.shape,initial_w.shape,initial_b.shape)\n",
    "\n",
    "tf.random.set_seed(1234) # for consistent results\n",
    "w = tf.Variable(tf.random.normal((num_users,  num_features),dtype=tf.float64),  name='w')\n",
    "x = tf.Variable(tf.random.normal((num_movies, num_features),dtype=tf.float64),  name='x')\n",
    "b = tf.Variable(tf.random.normal((1,          num_users),   dtype=tf.float64),  name='b')\n"
   ]
  },
  {
   "cell_type": "code",
   "execution_count": 9,
   "id": "c9e23603-2adb-4119-9e49-b8a1470643e1",
   "metadata": {},
   "outputs": [
    {
     "name": "stdout",
     "output_type": "stream",
     "text": [
      "Training loss at iteration 0: 5868396.1\n",
      "Training loss at iteration 20: 177330.5\n",
      "Training loss at iteration 40: 43508.2\n",
      "Training loss at iteration 60: 14480.3\n",
      "Training loss at iteration 80: 8370.1\n",
      "Training loss at iteration 100: 6802.1\n",
      "Training loss at iteration 120: 6247.4\n",
      "Training loss at iteration 140: 5985.0\n",
      "Training loss at iteration 160: 5834.4\n",
      "Training loss at iteration 180: 5736.9\n"
     ]
    }
   ],
   "source": [
    "w,b,x = gradientDecent(x,y,w,b,alpha,iterations,lam,M)"
   ]
  },
  {
   "cell_type": "code",
   "execution_count": 10,
   "id": "3cb15670-01d7-4c31-90fa-b5e17744f97a",
   "metadata": {},
   "outputs": [],
   "source": [
    "def predict(xt, wt, bt):\n",
    "    print(xt.shape,wt.shape,bt.shape)\n",
    "    # predicted_ratings = np.dot(x, w.T) + b  # Matrix multiplication for all users and all movies\n",
    "    predicted_ratings = np.matmul(xt.numpy(), np.transpose(wt.numpy())) + bt.numpy()\n",
    "    return predicted_ratings"
   ]
  },
  {
   "cell_type": "code",
   "execution_count": 11,
   "id": "b9a0e22b-b8e5-4a30-9566-03859cae1da5",
   "metadata": {},
   "outputs": [
    {
     "name": "stdout",
     "output_type": "stream",
     "text": [
      "(1682, 100) (943, 100) (1, 943)\n",
      "[5. 4. 4. ... 2. 3. 3.]\n",
      "[5.0563958  3.98092921 4.07081698 ... 2.09407768 2.98150608 3.01820845]\n",
      "0.9928158230654482\n",
      "0.9992053355632778\n"
     ]
    }
   ],
   "source": [
    "y_pred = predict(x, w, b)\n",
    "y_pred_masked = y_pred * M\n",
    "y_masked = y * M\n",
    "y_flat = y_masked[M > 0]\n",
    "y_pred_flat = y_pred_masked[M > 0]\n",
    "mse = mean_squared_error(y_flat, y_pred_flat)\n",
    "rmse = np.sqrt(mse)\n",
    "print(y_flat)\n",
    "print(y_pred_flat)\n",
    "print(r2_score(y_flat, y_pred_flat))\n",
    "print(r2_score(y_masked, y_pred_masked))"
   ]
  },
  {
   "cell_type": "code",
   "execution_count": null,
   "id": "bd28210f-988a-49b7-9cb2-54b01693a809",
   "metadata": {},
   "outputs": [],
   "source": []
  }
 ],
 "metadata": {
  "kernelspec": {
   "display_name": "Python 3 (ipykernel)",
   "language": "python",
   "name": "python3"
  },
  "language_info": {
   "codemirror_mode": {
    "name": "ipython",
    "version": 3
   },
   "file_extension": ".py",
   "mimetype": "text/x-python",
   "name": "python",
   "nbconvert_exporter": "python",
   "pygments_lexer": "ipython3",
   "version": "3.12.6"
  }
 },
 "nbformat": 4,
 "nbformat_minor": 5
}
