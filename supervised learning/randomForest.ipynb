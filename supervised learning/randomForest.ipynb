{
 "cells": [
  {
   "cell_type": "code",
   "execution_count": 10,
   "id": "7ddd5f70-e11d-4125-b8df-f16bcdf9f3c1",
   "metadata": {},
   "outputs": [],
   "source": [
    "import numpy as np\n",
    "import pandas as pd\n",
    "from sklearn.model_selection import train_test_split\n",
    "from sklearn.ensemble import RandomForestClassifier\n",
    "from sklearn.metrics import accuracy_score, precision_score, recall_score, roc_auc_score, confusion_matrix, classification_report"
   ]
  },
  {
   "cell_type": "code",
   "execution_count": 2,
   "id": "ce5f5943-d09e-4791-b9ab-28d69f470f68",
   "metadata": {},
   "outputs": [],
   "source": [
    "df = pd.read_excel('../../notes and data/E Commerce Dataset.xlsx',sheet_name=\"E Comm\")"
   ]
  },
  {
   "cell_type": "code",
   "execution_count": 3,
   "id": "615df46f-e7ed-401f-b8f7-31222b7dfb52",
   "metadata": {},
   "outputs": [],
   "source": [
    "df['Tenure'] = df['Tenure'].fillna(df['Tenure'].median())\n",
    "df['WarehouseToHome'] = df['WarehouseToHome'].fillna(df['WarehouseToHome'].median())\n",
    "df['OrderAmountHikeFromlastYear'] = df['OrderAmountHikeFromlastYear'].fillna(df['OrderAmountHikeFromlastYear'].median())\n",
    "df['DaySinceLastOrder'] = df['DaySinceLastOrder'].fillna(df['DaySinceLastOrder'].median())\n",
    "\n",
    "df['HourSpendOnApp'] = df['HourSpendOnApp'].fillna(df['HourSpendOnApp'].mode()[0])\n",
    "df['CouponUsed'] = df['CouponUsed'].fillna(df['CouponUsed'].mode()[0])\n",
    "df['OrderCount'] = df['OrderCount'].fillna(df['OrderCount'].mode()[0])"
   ]
  },
  {
   "cell_type": "code",
   "execution_count": 4,
   "id": "4dbafb8b-772b-4f41-9a36-5efbf143801a",
   "metadata": {},
   "outputs": [
    {
     "name": "stdout",
     "output_type": "stream",
     "text": [
      "Series([], )\n"
     ]
    }
   ],
   "source": [
    "print(df.isnull().sum()[df.isnull().sum() > 0].to_string())"
   ]
  },
  {
   "cell_type": "code",
   "execution_count": 5,
   "id": "31654579-2221-4ef9-9b84-51fd8ae3dd91",
   "metadata": {},
   "outputs": [],
   "source": [
    "df = pd.get_dummies(df, drop_first=True).astype(int)"
   ]
  },
  {
   "cell_type": "code",
   "execution_count": 8,
   "id": "5df2c2e7-65e6-462d-a2b8-9c4a5943986e",
   "metadata": {},
   "outputs": [],
   "source": [
    "x = df.drop(columns = ['CustomerID','Churn'])\n",
    "y = df['Churn']\n",
    "x_train,x_test,y_train,y_test = train_test_split(x,y,test_size=0.2, random_state=42)"
   ]
  },
  {
   "cell_type": "code",
   "execution_count": 11,
   "id": "72c8c293-028c-4dcb-8a31-385f31d18c0e",
   "metadata": {},
   "outputs": [],
   "source": [
    "rf_model = RandomForestClassifier(n_estimators=100, max_depth=None, random_state=42)"
   ]
  },
  {
   "cell_type": "code",
   "execution_count": 12,
   "id": "011b2cba-226a-4472-bed0-4ce6705c6bc1",
   "metadata": {},
   "outputs": [
    {
     "name": "stdout",
     "output_type": "stream",
     "text": [
      "Accuracy: 0.9706927175843695\n",
      "Precision: 0.9935064935064936\n",
      "Recall: 0.827027027027027\n",
      "AUC-ROC: 0.9920412442197777\n",
      "\n",
      "Confusion Matrix:\n",
      " [[940   1]\n",
      " [ 32 153]]\n",
      "\n",
      "Classification Report:\n",
      "               precision    recall  f1-score   support\n",
      "\n",
      "           0       0.97      1.00      0.98       941\n",
      "           1       0.99      0.83      0.90       185\n",
      "\n",
      "    accuracy                           0.97      1126\n",
      "   macro avg       0.98      0.91      0.94      1126\n",
      "weighted avg       0.97      0.97      0.97      1126\n",
      "\n"
     ]
    }
   ],
   "source": [
    "rf_model.fit(x_train, y_train)\n",
    "\n",
    "# Predict on the test set\n",
    "y_pred = rf_model.predict(x_test)\n",
    "y_proba = rf_model.predict_proba(x_test)[:, 1]  # For AUC-ROC calculation\n",
    "\n",
    "# Evaluation metrics\n",
    "accuracy = accuracy_score(y_test, y_pred)\n",
    "precision = precision_score(y_test, y_pred)\n",
    "recall = recall_score(y_test, y_pred)\n",
    "roc_auc = roc_auc_score(y_test, y_proba)\n",
    "\n",
    "# Print results\n",
    "print(\"Accuracy:\", accuracy)\n",
    "print(\"Precision:\", precision)\n",
    "print(\"Recall:\", recall)\n",
    "print(\"AUC-ROC:\", roc_auc)\n",
    "print(\"\\nConfusion Matrix:\\n\", confusion_matrix(y_test, y_pred))\n",
    "print(\"\\nClassification Report:\\n\", classification_report(y_test, y_pred))"
   ]
  },
  {
   "cell_type": "code",
   "execution_count": null,
   "id": "9fb4f737-1c27-4ebb-975f-c1575a22dc96",
   "metadata": {},
   "outputs": [],
   "source": []
  }
 ],
 "metadata": {
  "kernelspec": {
   "display_name": "Python 3 (ipykernel)",
   "language": "python",
   "name": "python3"
  },
  "language_info": {
   "codemirror_mode": {
    "name": "ipython",
    "version": 3
   },
   "file_extension": ".py",
   "mimetype": "text/x-python",
   "name": "python",
   "nbconvert_exporter": "python",
   "pygments_lexer": "ipython3",
   "version": "3.12.6"
  }
 },
 "nbformat": 4,
 "nbformat_minor": 5
}
